{
 "cells": [
  {
   "cell_type": "code",
   "execution_count": 1,
   "id": "99448510-2b8b-45a4-ac9f-4dba9b3dce7b",
   "metadata": {
    "execution": {
     "iopub.execute_input": "2025-07-29T21:35:58.396594Z",
     "iopub.status.busy": "2025-07-29T21:35:58.396241Z",
     "iopub.status.idle": "2025-07-29T21:36:03.241225Z",
     "shell.execute_reply": "2025-07-29T21:36:03.239964Z",
     "shell.execute_reply.started": "2025-07-29T21:35:58.396571Z"
    }
   },
   "outputs": [
    {
     "name": "stdout",
     "output_type": "stream",
     "text": [
      "Train shape: (8708, 12)\n",
      "Validation shape: (2178, 12)\n",
      "Test shape: (6493, 9)\n"
     ]
    },
    {
     "data": {
      "text/html": [
       "<div>\n",
       "<style scoped>\n",
       "    .dataframe tbody tr th:only-of-type {\n",
       "        vertical-align: middle;\n",
       "    }\n",
       "\n",
       "    .dataframe tbody tr th {\n",
       "        vertical-align: top;\n",
       "    }\n",
       "\n",
       "    .dataframe thead th {\n",
       "        text-align: right;\n",
       "    }\n",
       "</style>\n",
       "<table border=\"1\" class=\"dataframe\">\n",
       "  <thead>\n",
       "    <tr style=\"text-align: right;\">\n",
       "      <th></th>\n",
       "      <th>datetime</th>\n",
       "      <th>season</th>\n",
       "      <th>holiday</th>\n",
       "      <th>workingday</th>\n",
       "      <th>weather</th>\n",
       "      <th>temp</th>\n",
       "      <th>atemp</th>\n",
       "      <th>humidity</th>\n",
       "      <th>windspeed</th>\n",
       "      <th>casual</th>\n",
       "      <th>registered</th>\n",
       "      <th>count</th>\n",
       "    </tr>\n",
       "  </thead>\n",
       "  <tbody>\n",
       "    <tr>\n",
       "      <th>2815</th>\n",
       "      <td>2011-07-06 05:00:00</td>\n",
       "      <td>3</td>\n",
       "      <td>0</td>\n",
       "      <td>1</td>\n",
       "      <td>1</td>\n",
       "      <td>27.88</td>\n",
       "      <td>31.820</td>\n",
       "      <td>83</td>\n",
       "      <td>6.0032</td>\n",
       "      <td>5</td>\n",
       "      <td>30</td>\n",
       "      <td>35</td>\n",
       "    </tr>\n",
       "    <tr>\n",
       "      <th>8695</th>\n",
       "      <td>2012-08-04 16:00:00</td>\n",
       "      <td>3</td>\n",
       "      <td>0</td>\n",
       "      <td>0</td>\n",
       "      <td>1</td>\n",
       "      <td>36.90</td>\n",
       "      <td>40.910</td>\n",
       "      <td>39</td>\n",
       "      <td>19.9995</td>\n",
       "      <td>197</td>\n",
       "      <td>253</td>\n",
       "      <td>450</td>\n",
       "    </tr>\n",
       "    <tr>\n",
       "      <th>8406</th>\n",
       "      <td>2012-07-11 15:00:00</td>\n",
       "      <td>3</td>\n",
       "      <td>0</td>\n",
       "      <td>1</td>\n",
       "      <td>1</td>\n",
       "      <td>32.80</td>\n",
       "      <td>35.605</td>\n",
       "      <td>41</td>\n",
       "      <td>16.9979</td>\n",
       "      <td>56</td>\n",
       "      <td>220</td>\n",
       "      <td>276</td>\n",
       "    </tr>\n",
       "    <tr>\n",
       "      <th>1543</th>\n",
       "      <td>2011-04-10 04:00:00</td>\n",
       "      <td>2</td>\n",
       "      <td>0</td>\n",
       "      <td>0</td>\n",
       "      <td>2</td>\n",
       "      <td>14.76</td>\n",
       "      <td>18.180</td>\n",
       "      <td>93</td>\n",
       "      <td>7.0015</td>\n",
       "      <td>3</td>\n",
       "      <td>2</td>\n",
       "      <td>5</td>\n",
       "    </tr>\n",
       "    <tr>\n",
       "      <th>4952</th>\n",
       "      <td>2011-11-19 10:00:00</td>\n",
       "      <td>4</td>\n",
       "      <td>0</td>\n",
       "      <td>0</td>\n",
       "      <td>1</td>\n",
       "      <td>13.12</td>\n",
       "      <td>15.150</td>\n",
       "      <td>45</td>\n",
       "      <td>16.9979</td>\n",
       "      <td>35</td>\n",
       "      <td>165</td>\n",
       "      <td>200</td>\n",
       "    </tr>\n",
       "  </tbody>\n",
       "</table>\n",
       "</div>"
      ],
      "text/plain": [
       "                 datetime  season  holiday  workingday  weather   temp  \\\n",
       "2815  2011-07-06 05:00:00       3        0           1        1  27.88   \n",
       "8695  2012-08-04 16:00:00       3        0           0        1  36.90   \n",
       "8406  2012-07-11 15:00:00       3        0           1        1  32.80   \n",
       "1543  2011-04-10 04:00:00       2        0           0        2  14.76   \n",
       "4952  2011-11-19 10:00:00       4        0           0        1  13.12   \n",
       "\n",
       "       atemp  humidity  windspeed  casual  registered  count  \n",
       "2815  31.820        83     6.0032       5          30     35  \n",
       "8695  40.910        39    19.9995     197         253    450  \n",
       "8406  35.605        41    16.9979      56         220    276  \n",
       "1543  18.180        93     7.0015       3           2      5  \n",
       "4952  15.150        45    16.9979      35         165    200  "
      ]
     },
     "execution_count": 1,
     "metadata": {},
     "output_type": "execute_result"
    }
   ],
   "source": [
    "import pandas as pd\n",
    "from sklearn.model_selection import train_test_split\n",
    "import numpy as np\n",
    "from autogluon.tabular import TabularPredictor\n",
    "from sklearn.metrics import r2_score\n",
    "from sklearn.metrics import mean_squared_error\n",
    "\n",
    "\n",
    "\n",
    "original_train_data = pd.read_csv('train.csv')\n",
    "test_data = pd.read_csv('test.csv')\n",
    "\n",
    "train_data, val_data = train_test_split(original_train_data, test_size=0.2, random_state=42)\n",
    "\n",
    "print(\"Train shape:\", train_data.shape)\n",
    "print(\"Validation shape:\", val_data.shape)\n",
    "print(\"Test shape:\", test_data.shape)\n",
    "\n",
    "train_data.head()\n"
   ]
  },
  {
   "cell_type": "code",
   "execution_count": 2,
   "id": "06d88634-517b-4670-a580-c10b8b66388d",
   "metadata": {
    "execution": {
     "iopub.execute_input": "2025-07-29T21:36:03.243078Z",
     "iopub.status.busy": "2025-07-29T21:36:03.242651Z",
     "iopub.status.idle": "2025-07-29T21:36:03.249638Z",
     "shell.execute_reply": "2025-07-29T21:36:03.248910Z",
     "shell.execute_reply.started": "2025-07-29T21:36:03.243052Z"
    }
   },
   "outputs": [],
   "source": [
    "train_data = train_data.drop(columns=['casual', 'registered'])\n"
   ]
  },
  {
   "cell_type": "code",
   "execution_count": 3,
   "id": "4ccfb3fd-4020-402f-a7b1-997075fde7cf",
   "metadata": {
    "execution": {
     "iopub.execute_input": "2025-07-29T21:36:03.251280Z",
     "iopub.status.busy": "2025-07-29T21:36:03.250767Z",
     "iopub.status.idle": "2025-07-29T21:36:03.257590Z",
     "shell.execute_reply": "2025-07-29T21:36:03.256843Z",
     "shell.execute_reply.started": "2025-07-29T21:36:03.251251Z"
    }
   },
   "outputs": [],
   "source": [
    "val_data = val_data.drop(columns=['casual', 'registered'])\n"
   ]
  },
  {
   "cell_type": "code",
   "execution_count": 4,
   "id": "42b54681-6f4e-42be-bb42-6b91b5f16a0d",
   "metadata": {
    "execution": {
     "iopub.execute_input": "2025-07-29T21:36:03.260846Z",
     "iopub.status.busy": "2025-07-29T21:36:03.260335Z",
     "iopub.status.idle": "2025-07-29T21:36:03.274686Z",
     "shell.execute_reply": "2025-07-29T21:36:03.273941Z",
     "shell.execute_reply.started": "2025-07-29T21:36:03.260820Z"
    }
   },
   "outputs": [
    {
     "data": {
      "text/html": [
       "<div>\n",
       "<style scoped>\n",
       "    .dataframe tbody tr th:only-of-type {\n",
       "        vertical-align: middle;\n",
       "    }\n",
       "\n",
       "    .dataframe tbody tr th {\n",
       "        vertical-align: top;\n",
       "    }\n",
       "\n",
       "    .dataframe thead th {\n",
       "        text-align: right;\n",
       "    }\n",
       "</style>\n",
       "<table border=\"1\" class=\"dataframe\">\n",
       "  <thead>\n",
       "    <tr style=\"text-align: right;\">\n",
       "      <th></th>\n",
       "      <th>datetime</th>\n",
       "      <th>season</th>\n",
       "      <th>holiday</th>\n",
       "      <th>workingday</th>\n",
       "      <th>weather</th>\n",
       "      <th>temp</th>\n",
       "      <th>atemp</th>\n",
       "      <th>humidity</th>\n",
       "      <th>windspeed</th>\n",
       "      <th>count</th>\n",
       "    </tr>\n",
       "  </thead>\n",
       "  <tbody>\n",
       "    <tr>\n",
       "      <th>2815</th>\n",
       "      <td>2011-07-06 05:00:00</td>\n",
       "      <td>3</td>\n",
       "      <td>0</td>\n",
       "      <td>1</td>\n",
       "      <td>1</td>\n",
       "      <td>27.88</td>\n",
       "      <td>31.820</td>\n",
       "      <td>83</td>\n",
       "      <td>6.0032</td>\n",
       "      <td>35</td>\n",
       "    </tr>\n",
       "    <tr>\n",
       "      <th>8695</th>\n",
       "      <td>2012-08-04 16:00:00</td>\n",
       "      <td>3</td>\n",
       "      <td>0</td>\n",
       "      <td>0</td>\n",
       "      <td>1</td>\n",
       "      <td>36.90</td>\n",
       "      <td>40.910</td>\n",
       "      <td>39</td>\n",
       "      <td>19.9995</td>\n",
       "      <td>450</td>\n",
       "    </tr>\n",
       "    <tr>\n",
       "      <th>8406</th>\n",
       "      <td>2012-07-11 15:00:00</td>\n",
       "      <td>3</td>\n",
       "      <td>0</td>\n",
       "      <td>1</td>\n",
       "      <td>1</td>\n",
       "      <td>32.80</td>\n",
       "      <td>35.605</td>\n",
       "      <td>41</td>\n",
       "      <td>16.9979</td>\n",
       "      <td>276</td>\n",
       "    </tr>\n",
       "    <tr>\n",
       "      <th>1543</th>\n",
       "      <td>2011-04-10 04:00:00</td>\n",
       "      <td>2</td>\n",
       "      <td>0</td>\n",
       "      <td>0</td>\n",
       "      <td>2</td>\n",
       "      <td>14.76</td>\n",
       "      <td>18.180</td>\n",
       "      <td>93</td>\n",
       "      <td>7.0015</td>\n",
       "      <td>5</td>\n",
       "    </tr>\n",
       "    <tr>\n",
       "      <th>4952</th>\n",
       "      <td>2011-11-19 10:00:00</td>\n",
       "      <td>4</td>\n",
       "      <td>0</td>\n",
       "      <td>0</td>\n",
       "      <td>1</td>\n",
       "      <td>13.12</td>\n",
       "      <td>15.150</td>\n",
       "      <td>45</td>\n",
       "      <td>16.9979</td>\n",
       "      <td>200</td>\n",
       "    </tr>\n",
       "  </tbody>\n",
       "</table>\n",
       "</div>"
      ],
      "text/plain": [
       "                 datetime  season  holiday  workingday  weather   temp  \\\n",
       "2815  2011-07-06 05:00:00       3        0           1        1  27.88   \n",
       "8695  2012-08-04 16:00:00       3        0           0        1  36.90   \n",
       "8406  2012-07-11 15:00:00       3        0           1        1  32.80   \n",
       "1543  2011-04-10 04:00:00       2        0           0        2  14.76   \n",
       "4952  2011-11-19 10:00:00       4        0           0        1  13.12   \n",
       "\n",
       "       atemp  humidity  windspeed  count  \n",
       "2815  31.820        83     6.0032     35  \n",
       "8695  40.910        39    19.9995    450  \n",
       "8406  35.605        41    16.9979    276  \n",
       "1543  18.180        93     7.0015      5  \n",
       "4952  15.150        45    16.9979    200  "
      ]
     },
     "execution_count": 4,
     "metadata": {},
     "output_type": "execute_result"
    }
   ],
   "source": [
    "train_data.head()"
   ]
  },
  {
   "cell_type": "code",
   "execution_count": 5,
   "id": "eebef091-5e2b-45ca-842e-6c92f5a55df7",
   "metadata": {
    "execution": {
     "iopub.execute_input": "2025-07-29T21:36:03.276278Z",
     "iopub.status.busy": "2025-07-29T21:36:03.275961Z",
     "iopub.status.idle": "2025-07-29T21:36:03.290428Z",
     "shell.execute_reply": "2025-07-29T21:36:03.289721Z",
     "shell.execute_reply.started": "2025-07-29T21:36:03.276255Z"
    }
   },
   "outputs": [
    {
     "data": {
      "text/html": [
       "<div>\n",
       "<style scoped>\n",
       "    .dataframe tbody tr th:only-of-type {\n",
       "        vertical-align: middle;\n",
       "    }\n",
       "\n",
       "    .dataframe tbody tr th {\n",
       "        vertical-align: top;\n",
       "    }\n",
       "\n",
       "    .dataframe thead th {\n",
       "        text-align: right;\n",
       "    }\n",
       "</style>\n",
       "<table border=\"1\" class=\"dataframe\">\n",
       "  <thead>\n",
       "    <tr style=\"text-align: right;\">\n",
       "      <th></th>\n",
       "      <th>datetime</th>\n",
       "      <th>season</th>\n",
       "      <th>holiday</th>\n",
       "      <th>workingday</th>\n",
       "      <th>weather</th>\n",
       "      <th>temp</th>\n",
       "      <th>atemp</th>\n",
       "      <th>humidity</th>\n",
       "      <th>windspeed</th>\n",
       "      <th>count</th>\n",
       "    </tr>\n",
       "  </thead>\n",
       "  <tbody>\n",
       "    <tr>\n",
       "      <th>3133</th>\n",
       "      <td>2011-07-19 11:00:00</td>\n",
       "      <td>3</td>\n",
       "      <td>0</td>\n",
       "      <td>1</td>\n",
       "      <td>1</td>\n",
       "      <td>33.62</td>\n",
       "      <td>40.150</td>\n",
       "      <td>59</td>\n",
       "      <td>0.0000</td>\n",
       "      <td>127</td>\n",
       "    </tr>\n",
       "    <tr>\n",
       "      <th>5786</th>\n",
       "      <td>2012-01-16 06:00:00</td>\n",
       "      <td>1</td>\n",
       "      <td>1</td>\n",
       "      <td>0</td>\n",
       "      <td>1</td>\n",
       "      <td>4.10</td>\n",
       "      <td>6.820</td>\n",
       "      <td>54</td>\n",
       "      <td>6.0032</td>\n",
       "      <td>13</td>\n",
       "    </tr>\n",
       "    <tr>\n",
       "      <th>5224</th>\n",
       "      <td>2011-12-11 18:00:00</td>\n",
       "      <td>4</td>\n",
       "      <td>0</td>\n",
       "      <td>0</td>\n",
       "      <td>1</td>\n",
       "      <td>9.84</td>\n",
       "      <td>11.365</td>\n",
       "      <td>48</td>\n",
       "      <td>12.9980</td>\n",
       "      <td>163</td>\n",
       "    </tr>\n",
       "    <tr>\n",
       "      <th>8953</th>\n",
       "      <td>2012-08-15 10:00:00</td>\n",
       "      <td>3</td>\n",
       "      <td>0</td>\n",
       "      <td>1</td>\n",
       "      <td>2</td>\n",
       "      <td>29.52</td>\n",
       "      <td>34.090</td>\n",
       "      <td>62</td>\n",
       "      <td>12.9980</td>\n",
       "      <td>233</td>\n",
       "    </tr>\n",
       "    <tr>\n",
       "      <th>8054</th>\n",
       "      <td>2012-06-15 23:00:00</td>\n",
       "      <td>2</td>\n",
       "      <td>0</td>\n",
       "      <td>1</td>\n",
       "      <td>1</td>\n",
       "      <td>25.42</td>\n",
       "      <td>31.060</td>\n",
       "      <td>53</td>\n",
       "      <td>16.9979</td>\n",
       "      <td>222</td>\n",
       "    </tr>\n",
       "  </tbody>\n",
       "</table>\n",
       "</div>"
      ],
      "text/plain": [
       "                 datetime  season  holiday  workingday  weather   temp  \\\n",
       "3133  2011-07-19 11:00:00       3        0           1        1  33.62   \n",
       "5786  2012-01-16 06:00:00       1        1           0        1   4.10   \n",
       "5224  2011-12-11 18:00:00       4        0           0        1   9.84   \n",
       "8953  2012-08-15 10:00:00       3        0           1        2  29.52   \n",
       "8054  2012-06-15 23:00:00       2        0           1        1  25.42   \n",
       "\n",
       "       atemp  humidity  windspeed  count  \n",
       "3133  40.150        59     0.0000    127  \n",
       "5786   6.820        54     6.0032     13  \n",
       "5224  11.365        48    12.9980    163  \n",
       "8953  34.090        62    12.9980    233  \n",
       "8054  31.060        53    16.9979    222  "
      ]
     },
     "execution_count": 5,
     "metadata": {},
     "output_type": "execute_result"
    }
   ],
   "source": [
    "val_data.head()"
   ]
  },
  {
   "cell_type": "code",
   "execution_count": 6,
   "id": "78051878-c1a1-406e-b36e-489cb1c38ecd",
   "metadata": {
    "execution": {
     "iopub.execute_input": "2025-07-29T21:36:03.291666Z",
     "iopub.status.busy": "2025-07-29T21:36:03.291295Z",
     "iopub.status.idle": "2025-07-29T21:36:03.301759Z",
     "shell.execute_reply": "2025-07-29T21:36:03.301006Z",
     "shell.execute_reply.started": "2025-07-29T21:36:03.291639Z"
    }
   },
   "outputs": [
    {
     "data": {
      "text/html": [
       "<div>\n",
       "<style scoped>\n",
       "    .dataframe tbody tr th:only-of-type {\n",
       "        vertical-align: middle;\n",
       "    }\n",
       "\n",
       "    .dataframe tbody tr th {\n",
       "        vertical-align: top;\n",
       "    }\n",
       "\n",
       "    .dataframe thead th {\n",
       "        text-align: right;\n",
       "    }\n",
       "</style>\n",
       "<table border=\"1\" class=\"dataframe\">\n",
       "  <thead>\n",
       "    <tr style=\"text-align: right;\">\n",
       "      <th></th>\n",
       "      <th>datetime</th>\n",
       "      <th>season</th>\n",
       "      <th>holiday</th>\n",
       "      <th>workingday</th>\n",
       "      <th>weather</th>\n",
       "      <th>temp</th>\n",
       "      <th>atemp</th>\n",
       "      <th>humidity</th>\n",
       "      <th>windspeed</th>\n",
       "    </tr>\n",
       "  </thead>\n",
       "  <tbody>\n",
       "    <tr>\n",
       "      <th>0</th>\n",
       "      <td>2011-01-20 00:00:00</td>\n",
       "      <td>1</td>\n",
       "      <td>0</td>\n",
       "      <td>1</td>\n",
       "      <td>1</td>\n",
       "      <td>10.66</td>\n",
       "      <td>11.365</td>\n",
       "      <td>56</td>\n",
       "      <td>26.0027</td>\n",
       "    </tr>\n",
       "    <tr>\n",
       "      <th>1</th>\n",
       "      <td>2011-01-20 01:00:00</td>\n",
       "      <td>1</td>\n",
       "      <td>0</td>\n",
       "      <td>1</td>\n",
       "      <td>1</td>\n",
       "      <td>10.66</td>\n",
       "      <td>13.635</td>\n",
       "      <td>56</td>\n",
       "      <td>0.0000</td>\n",
       "    </tr>\n",
       "    <tr>\n",
       "      <th>2</th>\n",
       "      <td>2011-01-20 02:00:00</td>\n",
       "      <td>1</td>\n",
       "      <td>0</td>\n",
       "      <td>1</td>\n",
       "      <td>1</td>\n",
       "      <td>10.66</td>\n",
       "      <td>13.635</td>\n",
       "      <td>56</td>\n",
       "      <td>0.0000</td>\n",
       "    </tr>\n",
       "    <tr>\n",
       "      <th>3</th>\n",
       "      <td>2011-01-20 03:00:00</td>\n",
       "      <td>1</td>\n",
       "      <td>0</td>\n",
       "      <td>1</td>\n",
       "      <td>1</td>\n",
       "      <td>10.66</td>\n",
       "      <td>12.880</td>\n",
       "      <td>56</td>\n",
       "      <td>11.0014</td>\n",
       "    </tr>\n",
       "    <tr>\n",
       "      <th>4</th>\n",
       "      <td>2011-01-20 04:00:00</td>\n",
       "      <td>1</td>\n",
       "      <td>0</td>\n",
       "      <td>1</td>\n",
       "      <td>1</td>\n",
       "      <td>10.66</td>\n",
       "      <td>12.880</td>\n",
       "      <td>56</td>\n",
       "      <td>11.0014</td>\n",
       "    </tr>\n",
       "  </tbody>\n",
       "</table>\n",
       "</div>"
      ],
      "text/plain": [
       "              datetime  season  holiday  workingday  weather   temp   atemp  \\\n",
       "0  2011-01-20 00:00:00       1        0           1        1  10.66  11.365   \n",
       "1  2011-01-20 01:00:00       1        0           1        1  10.66  13.635   \n",
       "2  2011-01-20 02:00:00       1        0           1        1  10.66  13.635   \n",
       "3  2011-01-20 03:00:00       1        0           1        1  10.66  12.880   \n",
       "4  2011-01-20 04:00:00       1        0           1        1  10.66  12.880   \n",
       "\n",
       "   humidity  windspeed  \n",
       "0        56    26.0027  \n",
       "1        56     0.0000  \n",
       "2        56     0.0000  \n",
       "3        56    11.0014  \n",
       "4        56    11.0014  "
      ]
     },
     "execution_count": 6,
     "metadata": {},
     "output_type": "execute_result"
    }
   ],
   "source": [
    "test_data.head()"
   ]
  },
  {
   "cell_type": "code",
   "execution_count": 7,
   "id": "c0f23674-7086-464b-880f-5a53935e83dc",
   "metadata": {
    "execution": {
     "iopub.execute_input": "2025-07-29T21:36:03.303181Z",
     "iopub.status.busy": "2025-07-29T21:36:03.302775Z",
     "iopub.status.idle": "2025-07-29T21:36:03.307749Z",
     "shell.execute_reply": "2025-07-29T21:36:03.307057Z",
     "shell.execute_reply.started": "2025-07-29T21:36:03.303132Z"
    }
   },
   "outputs": [],
   "source": [
    "train_data['count'] = np.log1p(train_data['count'])\n"
   ]
  },
  {
   "cell_type": "code",
   "execution_count": 8,
   "id": "1eaab829-d07c-443b-8865-3d3ccfd7622a",
   "metadata": {
    "execution": {
     "iopub.execute_input": "2025-07-29T21:36:03.309026Z",
     "iopub.status.busy": "2025-07-29T21:36:03.308720Z",
     "iopub.status.idle": "2025-07-29T21:36:03.316663Z",
     "shell.execute_reply": "2025-07-29T21:36:03.313810Z",
     "shell.execute_reply.started": "2025-07-29T21:36:03.308997Z"
    }
   },
   "outputs": [],
   "source": [
    "val_data['count'] = np.log1p(val_data['count'])\n"
   ]
  },
  {
   "cell_type": "code",
   "execution_count": 9,
   "id": "54deaecf-46c9-469a-ad37-2d7d8a7bbeab",
   "metadata": {
    "execution": {
     "iopub.execute_input": "2025-07-29T21:36:03.318388Z",
     "iopub.status.busy": "2025-07-29T21:36:03.318018Z",
     "iopub.status.idle": "2025-07-29T21:46:17.871362Z",
     "shell.execute_reply": "2025-07-29T21:46:17.870554Z",
     "shell.execute_reply.started": "2025-07-29T21:36:03.318363Z"
    }
   },
   "outputs": [
    {
     "name": "stderr",
     "output_type": "stream",
     "text": [
      "No path specified. Models will be saved in: \"AutogluonModels/ag-20250729_213603\"\n",
      "Verbosity: 2 (Standard Logging)\n",
      "=================== System Info ===================\n",
      "AutoGluon Version:  1.3.1\n",
      "Python Version:     3.12.9\n",
      "Operating System:   Linux\n",
      "Platform Machine:   x86_64\n",
      "Platform Version:   #1 SMP Tue Jun 17 10:30:46 UTC 2025\n",
      "CPU Count:          2\n",
      "Memory Avail:       2.47 GB / 3.76 GB (65.6%)\n",
      "Disk Space Avail:   3.61 GB / 4.99 GB (72.4%)\n",
      "\tWARNING: Available disk space is low and there is a risk that AutoGluon will run out of disk during fit, causing an exception. \n",
      "\tWe recommend a minimum available disk space of 10 GB, and large datasets may require more.\n",
      "===================================================\n",
      "Presets specified: ['best_quality']\n",
      "Setting dynamic_stacking from 'auto' to True. Reason: Enable dynamic_stacking when use_bag_holdout is disabled. (use_bag_holdout=False)\n",
      "Stack configuration (auto_stack=True): num_stack_levels=1, num_bag_folds=8, num_bag_sets=1\n",
      "DyStack is enabled (dynamic_stacking=True). AutoGluon will try to determine whether the input data is affected by stacked overfitting and enable or disable stacking as a consequence.\n",
      "\tThis is used to identify the optimal `num_stack_levels` value. Copies of AutoGluon will be fit on subsets of the data. Then holdout validation data is used to detect stacked overfitting.\n",
      "\tRunning DyStack for up to 150s of the 600s of remaining time (25%).\n",
      "\tRunning DyStack sub-fit in a ray process to avoid memory leakage. Enabling ray logging (enable_ray_logging=True). Specify `ds_args={'enable_ray_logging': False}` if you experience logging issues.\n",
      "2025-07-29 21:36:08,842\tWARNING services.py:2070 -- WARNING: The object store is using /tmp instead of /dev/shm because /dev/shm has only 411013120 bytes available. This will harm performance! You may be able to free up space by deleting files in /dev/shm. If you are inside a Docker container, you can increase /dev/shm size by passing '--shm-size=0.98gb' to 'docker run' (or add it to the run_options list in a Ray cluster config). Make sure to set this to more than 30% of available RAM.\n",
      "2025-07-29 21:36:10,023\tINFO worker.py:1843 -- Started a local Ray instance. View the dashboard at \u001b[1m\u001b[32mhttp://127.0.0.1:8265 \u001b[39m\u001b[22m\n",
      "\t\tContext path: \"/home/sagemaker-user/nd009t-c1-intro-to-ml-project-starter/AutogluonModels/ag-20250729_213603/ds_sub_fit/sub_fit_ho\"\n",
      "\u001b[36m(_dystack pid=6481)\u001b[0m Running DyStack sub-fit ...\n",
      "\u001b[36m(_dystack pid=6481)\u001b[0m /opt/conda/lib/python3.12/site-packages/autogluon/common/utils/utils.py:97: UserWarning: pkg_resources is deprecated as an API. See https://setuptools.pypa.io/en/latest/pkg_resources.html. The pkg_resources package is slated for removal as early as 2025-11-30. Refrain from using this package or pin to Setuptools<81.\n",
      "\u001b[36m(_dystack pid=6481)\u001b[0m   import pkg_resources\n",
      "\u001b[36m(_dystack pid=6481)\u001b[0m Beginning AutoGluon training ... Time limit = 145s\n",
      "\u001b[36m(_dystack pid=6481)\u001b[0m AutoGluon will save models to \"/home/sagemaker-user/nd009t-c1-intro-to-ml-project-starter/AutogluonModels/ag-20250729_213603/ds_sub_fit/sub_fit_ho\"\n",
      "\u001b[36m(_dystack pid=6481)\u001b[0m Train Data Rows:    7740\n",
      "\u001b[36m(_dystack pid=6481)\u001b[0m Train Data Columns: 9\n",
      "\u001b[36m(_dystack pid=6481)\u001b[0m Label Column:       count\n",
      "\u001b[36m(_dystack pid=6481)\u001b[0m Problem Type:       regression\n",
      "\u001b[36m(_dystack pid=6481)\u001b[0m Preprocessing data ...\n",
      "\u001b[36m(_dystack pid=6481)\u001b[0m Using Feature Generators to preprocess the data ...\n",
      "\u001b[36m(_dystack pid=6481)\u001b[0m Fitting AutoMLPipelineFeatureGenerator...\n",
      "\u001b[36m(_dystack pid=6481)\u001b[0m \tAvailable Memory:                    2023.82 MB\n",
      "\u001b[36m(_dystack pid=6481)\u001b[0m \tTrain Data (Original)  Memory Usage: 0.97 MB (0.0% of available memory)\n",
      "\u001b[36m(_dystack pid=6481)\u001b[0m \tInferring data type of each feature based on column values. Set feature_metadata_in to manually specify special dtypes of the features.\n",
      "\u001b[36m(_dystack pid=6481)\u001b[0m \tStage 1 Generators:\n",
      "\u001b[36m(_dystack pid=6481)\u001b[0m \t\tFitting AsTypeFeatureGenerator...\n",
      "\u001b[36m(_dystack pid=6481)\u001b[0m \t\t\tNote: Converting 2 features to boolean dtype as they only contain 2 unique values.\n",
      "\u001b[36m(_dystack pid=6481)\u001b[0m \tStage 2 Generators:\n",
      "\u001b[36m(_dystack pid=6481)\u001b[0m \t\tFitting FillNaFeatureGenerator...\n",
      "\u001b[36m(_dystack pid=6481)\u001b[0m \tStage 3 Generators:\n",
      "\u001b[36m(_dystack pid=6481)\u001b[0m \t\tFitting IdentityFeatureGenerator...\n",
      "\u001b[36m(_dystack pid=6481)\u001b[0m \t\tFitting DatetimeFeatureGenerator...\n",
      "\u001b[36m(_dystack pid=6481)\u001b[0m \tStage 4 Generators:\n",
      "\u001b[36m(_dystack pid=6481)\u001b[0m \t\tFitting DropUniqueFeatureGenerator...\n",
      "\u001b[36m(_dystack pid=6481)\u001b[0m \tStage 5 Generators:\n",
      "\u001b[36m(_dystack pid=6481)\u001b[0m \t\tFitting DropDuplicatesFeatureGenerator...\n",
      "\u001b[36m(_dystack pid=6481)\u001b[0m \tTypes of features in original data (raw dtype, special dtypes):\n",
      "\u001b[36m(_dystack pid=6481)\u001b[0m \t\t('float', [])                      : 3 | ['temp', 'atemp', 'windspeed']\n",
      "\u001b[36m(_dystack pid=6481)\u001b[0m \t\t('int', [])                        : 5 | ['season', 'holiday', 'workingday', 'weather', 'humidity']\n",
      "\u001b[36m(_dystack pid=6481)\u001b[0m \t\t('object', ['datetime_as_object']) : 1 | ['datetime']\n",
      "\u001b[36m(_dystack pid=6481)\u001b[0m \tTypes of features in processed data (raw dtype, special dtypes):\n",
      "\u001b[36m(_dystack pid=6481)\u001b[0m \t\t('float', [])                : 3 | ['temp', 'atemp', 'windspeed']\n",
      "\u001b[36m(_dystack pid=6481)\u001b[0m \t\t('int', [])                  : 3 | ['season', 'weather', 'humidity']\n",
      "\u001b[36m(_dystack pid=6481)\u001b[0m \t\t('int', ['bool'])            : 2 | ['holiday', 'workingday']\n",
      "\u001b[36m(_dystack pid=6481)\u001b[0m \t\t('int', ['datetime_as_int']) : 5 | ['datetime', 'datetime.year', 'datetime.month', 'datetime.day', 'datetime.dayofweek']\n",
      "\u001b[36m(_dystack pid=6481)\u001b[0m \t0.1s = Fit runtime\n",
      "\u001b[36m(_dystack pid=6481)\u001b[0m \t9 features in original data used to generate 13 features in processed data.\n",
      "\u001b[36m(_dystack pid=6481)\u001b[0m \tTrain Data (Processed) Memory Usage: 0.66 MB (0.0% of available memory)\n",
      "\u001b[36m(_dystack pid=6481)\u001b[0m Data preprocessing and feature engineering runtime = 0.07s ...\n",
      "\u001b[36m(_dystack pid=6481)\u001b[0m AutoGluon will gauge predictive performance using evaluation metric: 'root_mean_squared_error'\n",
      "\u001b[36m(_dystack pid=6481)\u001b[0m \tThis metric's sign has been flipped to adhere to being higher_is_better. The metric score can be multiplied by -1 to get the metric value.\n",
      "\u001b[36m(_dystack pid=6481)\u001b[0m \tTo change this, specify the eval_metric parameter of Predictor()\n",
      "\u001b[36m(_dystack pid=6481)\u001b[0m Large model count detected (112 configs) ... Only displaying the first 3 models of each family. To see all, set `verbosity=3`.\n",
      "\u001b[36m(_dystack pid=6481)\u001b[0m User-specified model hyperparameters to be fit:\n",
      "\u001b[36m(_dystack pid=6481)\u001b[0m {\n",
      "\u001b[36m(_dystack pid=6481)\u001b[0m \t'NN_TORCH': [{}, {'activation': 'elu', 'dropout_prob': 0.10077639529843717, 'hidden_size': 108, 'learning_rate': 0.002735937344002146, 'num_layers': 4, 'use_batchnorm': True, 'weight_decay': 1.356433327634438e-12, 'ag_args': {'name_suffix': '_r79', 'priority': -2}}, {'activation': 'elu', 'dropout_prob': 0.11897478034205347, 'hidden_size': 213, 'learning_rate': 0.0010474382260641949, 'num_layers': 4, 'use_batchnorm': False, 'weight_decay': 5.594471067786272e-10, 'ag_args': {'name_suffix': '_r22', 'priority': -7}}],\n",
      "\u001b[36m(_dystack pid=6481)\u001b[0m \t'GBM': [{'extra_trees': True, 'ag_args': {'name_suffix': 'XT'}}, {}, {'learning_rate': 0.03, 'num_leaves': 128, 'feature_fraction': 0.9, 'min_data_in_leaf': 3, 'ag_args': {'name_suffix': 'Large', 'priority': 0, 'hyperparameter_tune_kwargs': None}}],\n",
      "\u001b[36m(_dystack pid=6481)\u001b[0m \t'CAT': [{}, {'depth': 6, 'grow_policy': 'SymmetricTree', 'l2_leaf_reg': 2.1542798306067823, 'learning_rate': 0.06864209415792857, 'max_ctr_complexity': 4, 'one_hot_max_size': 10, 'ag_args': {'name_suffix': '_r177', 'priority': -1}}, {'depth': 8, 'grow_policy': 'Depthwise', 'l2_leaf_reg': 2.7997999596449104, 'learning_rate': 0.031375015734637225, 'max_ctr_complexity': 2, 'one_hot_max_size': 3, 'ag_args': {'name_suffix': '_r9', 'priority': -5}}],\n",
      "\u001b[36m(_dystack pid=6481)\u001b[0m \t'XGB': [{}, {'colsample_bytree': 0.6917311125174739, 'enable_categorical': False, 'learning_rate': 0.018063876087523967, 'max_depth': 10, 'min_child_weight': 0.6028633586934382, 'ag_args': {'name_suffix': '_r33', 'priority': -8}}, {'colsample_bytree': 0.6628423832084077, 'enable_categorical': False, 'learning_rate': 0.08775715546881824, 'max_depth': 5, 'min_child_weight': 0.6294123374222513, 'ag_args': {'name_suffix': '_r89', 'priority': -16}}],\n",
      "\u001b[36m(_dystack pid=6481)\u001b[0m \t'FASTAI': [{}, {'bs': 256, 'emb_drop': 0.5411770367537934, 'epochs': 43, 'layers': [800, 400], 'lr': 0.01519848858318159, 'ps': 0.23782946566604385, 'ag_args': {'name_suffix': '_r191', 'priority': -4}}, {'bs': 2048, 'emb_drop': 0.05070411322605811, 'epochs': 29, 'layers': [200, 100], 'lr': 0.08974235041576624, 'ps': 0.10393466140748028, 'ag_args': {'name_suffix': '_r102', 'priority': -11}}],\n",
      "\u001b[36m(_dystack pid=6481)\u001b[0m \t'RF': [{'criterion': 'gini', 'ag_args': {'name_suffix': 'Gini', 'problem_types': ['binary', 'multiclass']}}, {'criterion': 'entropy', 'ag_args': {'name_suffix': 'Entr', 'problem_types': ['binary', 'multiclass']}}, {'criterion': 'squared_error', 'ag_args': {'name_suffix': 'MSE', 'problem_types': ['regression', 'quantile']}}],\n",
      "\u001b[36m(_dystack pid=6481)\u001b[0m \t'XT': [{'criterion': 'gini', 'ag_args': {'name_suffix': 'Gini', 'problem_types': ['binary', 'multiclass']}}, {'criterion': 'entropy', 'ag_args': {'name_suffix': 'Entr', 'problem_types': ['binary', 'multiclass']}}, {'criterion': 'squared_error', 'ag_args': {'name_suffix': 'MSE', 'problem_types': ['regression', 'quantile']}}],\n",
      "\u001b[36m(_dystack pid=6481)\u001b[0m \t'KNN': [{'weights': 'uniform', 'ag_args': {'name_suffix': 'Unif'}}, {'weights': 'distance', 'ag_args': {'name_suffix': 'Dist'}}],\n",
      "\u001b[36m(_dystack pid=6481)\u001b[0m }\n",
      "\u001b[36m(_dystack pid=6481)\u001b[0m AutoGluon will fit 2 stack levels (L1 to L2) ...\n",
      "\u001b[36m(_dystack pid=6481)\u001b[0m Fitting 108 L1 models, fit_strategy=\"sequential\" ...\n",
      "\u001b[36m(_dystack pid=6481)\u001b[0m Fitting model: KNeighborsUnif_BAG_L1 ... Training model for up to 96.36s of the 144.57s of remaining time.\n",
      "\u001b[36m(_dystack pid=6481)\u001b[0m \t-0.8294\t = Validation score   (-root_mean_squared_error)\n",
      "\u001b[36m(_dystack pid=6481)\u001b[0m \t0.02s\t = Training   runtime\n",
      "\u001b[36m(_dystack pid=6481)\u001b[0m \t0.04s\t = Validation runtime\n",
      "\u001b[36m(_dystack pid=6481)\u001b[0m Fitting model: KNeighborsDist_BAG_L1 ... Training model for up to 93.76s of the 141.97s of remaining time.\n",
      "\u001b[36m(_dystack pid=6481)\u001b[0m \t-0.6543\t = Validation score   (-root_mean_squared_error)\n",
      "\u001b[36m(_dystack pid=6481)\u001b[0m \t0.01s\t = Training   runtime\n",
      "\u001b[36m(_dystack pid=6481)\u001b[0m \t0.04s\t = Validation runtime\n",
      "\u001b[36m(_dystack pid=6481)\u001b[0m Fitting model: LightGBMXT_BAG_L1 ... Training model for up to 93.70s of the 141.91s of remaining time.\n",
      "\u001b[36m(_dystack pid=6481)\u001b[0m \tFitting 8 child models (S1F1 - S1F8) | Fitting with ParallelLocalFoldFittingStrategy (2 workers, per: cpus=1, gpus=0, memory=0.52%)\n"
     ]
    },
    {
     "name": "stdout",
     "output_type": "stream",
     "text": [
      "\u001b[36m(_ray_fit pid=6620)\u001b[0m [1000]\tvalid_set's rmse: 1.01751\n",
      "\u001b[36m(_ray_fit pid=6687)\u001b[0m [1000]\tvalid_set's rmse: 1.04587\u001b[32m [repeated 6x across cluster] (Ray deduplicates logs by default. Set RAY_DEDUP_LOGS=0 to disable log deduplication, or see https://docs.ray.io/en/master/ray-observability/user-guides/configure-logging.html#log-deduplication for more options.)\u001b[0m\n",
      "\u001b[36m(_ray_fit pid=6687)\u001b[0m [6000]\tvalid_set's rmse: 1.01846\u001b[32m [repeated 6x across cluster]\u001b[0m\n",
      "\u001b[36m(_ray_fit pid=6721)\u001b[0m [7000]\tvalid_set's rmse: 1.08065\u001b[32m [repeated 7x across cluster]\u001b[0m\n",
      "\u001b[36m(_ray_fit pid=6767)\u001b[0m [1000]\tvalid_set's rmse: 1.07878\n",
      "\u001b[36m(_ray_fit pid=6767)\u001b[0m [2000]\tvalid_set's rmse: 1.06081\n",
      "\u001b[36m(_ray_fit pid=6767)\u001b[0m [3000]\tvalid_set's rmse: 1.05128\n",
      "\u001b[36m(_ray_fit pid=6767)\u001b[0m [4000]\tvalid_set's rmse: 1.04535\n",
      "\u001b[36m(_ray_fit pid=6767)\u001b[0m [7000]\tvalid_set's rmse: 1.04381\u001b[32m [repeated 6x across cluster]\u001b[0m\n",
      "\u001b[36m(_ray_fit pid=6843)\u001b[0m [1000]\tvalid_set's rmse: 1.08319\u001b[32m [repeated 5x across cluster]\u001b[0m\n",
      "\u001b[36m(_ray_fit pid=6874)\u001b[0m [2000]\tvalid_set's rmse: 1.08928\u001b[32m [repeated 3x across cluster]\u001b[0m\n"
     ]
    },
    {
     "name": "stderr",
     "output_type": "stream",
     "text": [
      "\u001b[36m(_dystack pid=6481)\u001b[0m \t-1.0581\t = Validation score   (-root_mean_squared_error)\n",
      "\u001b[36m(_dystack pid=6481)\u001b[0m \t54.65s\t = Training   runtime\n",
      "\u001b[36m(_dystack pid=6481)\u001b[0m \t6.52s\t = Validation runtime\n",
      "\u001b[36m(_dystack pid=6481)\u001b[0m Fitting model: LightGBM_BAG_L1 ... Training model for up to 35.30s of the 83.50s of remaining time.\n",
      "\u001b[36m(_dystack pid=6481)\u001b[0m \tFitting 8 child models (S1F1 - S1F8) | Fitting with ParallelLocalFoldFittingStrategy (2 workers, per: cpus=1, gpus=0, memory=0.60%)\n"
     ]
    },
    {
     "name": "stdout",
     "output_type": "stream",
     "text": [
      "\u001b[36m(_ray_fit pid=6912)\u001b[0m [1000]\tvalid_set's rmse: 1.02339\u001b[32m [repeated 3x across cluster]\u001b[0m\n",
      "\u001b[36m(_ray_fit pid=6972)\u001b[0m [1000]\tvalid_set's rmse: 1.0082\n",
      "\u001b[36m(_ray_fit pid=6972)\u001b[0m [2000]\tvalid_set's rmse: 1.0072\n",
      "\u001b[36m(_ray_fit pid=7043)\u001b[0m [1000]\tvalid_set's rmse: 1.13855\n",
      "\u001b[36m(_ray_fit pid=7042)\u001b[0m [1000]\tvalid_set's rmse: 1.06255\n"
     ]
    },
    {
     "name": "stderr",
     "output_type": "stream",
     "text": [
      "\u001b[36m(_dystack pid=6481)\u001b[0m WARNING: All log messages before absl::InitializeLog() is called are written to STDERR\n",
      "\u001b[36m(_dystack pid=6481)\u001b[0m I0000 00:00:1753825057.805615    6540 chttp2_transport.cc:1182] ipv4:169.255.255.2:46393: Got goaway [2] err=UNAVAILABLE:GOAWAY received; Error code: 2; Debug Text: Cancelling all calls {created_time:\"2025-07-29T21:37:37.8045287+00:00\", http2_error:2, grpc_status:14}\n"
     ]
    },
    {
     "name": "stdout",
     "output_type": "stream",
     "text": [
      "\u001b[36m(_ray_fit pid=7114)\u001b[0m [1000]\tvalid_set's rmse: 1.07299\u001b[32m [repeated 2x across cluster]\u001b[0m\n"
     ]
    },
    {
     "name": "stderr",
     "output_type": "stream",
     "text": [
      "\u001b[36m(_dystack pid=6481)\u001b[0m \t-1.0597\t = Validation score   (-root_mean_squared_error)\n",
      "\u001b[36m(_dystack pid=6481)\u001b[0m \t26.51s\t = Training   runtime\n",
      "\u001b[36m(_dystack pid=6481)\u001b[0m \t1.08s\t = Validation runtime\n",
      "\u001b[36m(_dystack pid=6481)\u001b[0m Fitting model: RandomForestMSE_BAG_L1 ... Training model for up to 5.35s of the 53.55s of remaining time.\n",
      "\u001b[36m(_dystack pid=6481)\u001b[0m /opt/conda/lib/python3.12/site-packages/sklearn/base.py:474: FutureWarning: `BaseEstimator._validate_data` is deprecated in 1.6 and will be removed in 1.7. Use `sklearn.utils.validation.validate_data` instead. This function becomes public and is part of the scikit-learn developer API.\n",
      "\u001b[36m(_dystack pid=6481)\u001b[0m   warnings.warn(\n",
      "\u001b[36m(_dystack pid=6481)\u001b[0m \t-0.947\t = Validation score   (-root_mean_squared_error)\n",
      "\u001b[36m(_dystack pid=6481)\u001b[0m \t10.9s\t = Training   runtime\n",
      "\u001b[36m(_dystack pid=6481)\u001b[0m \t0.49s\t = Validation runtime\n",
      "\u001b[36m(_dystack pid=6481)\u001b[0m Fitting model: WeightedEnsemble_L2 ... Training model for up to 144.58s of the 41.71s of remaining time.\n",
      "\u001b[36m(_dystack pid=6481)\u001b[0m \tEnsemble Weights: {'KNeighborsDist_BAG_L1': 1.0}\n",
      "\u001b[36m(_dystack pid=6481)\u001b[0m \t-0.6543\t = Validation score   (-root_mean_squared_error)\n",
      "\u001b[36m(_dystack pid=6481)\u001b[0m \t0.02s\t = Training   runtime\n",
      "\u001b[36m(_dystack pid=6481)\u001b[0m \t0.0s\t = Validation runtime\n",
      "\u001b[36m(_dystack pid=6481)\u001b[0m Fitting 106 L2 models, fit_strategy=\"sequential\" ...\n",
      "\u001b[36m(_dystack pid=6481)\u001b[0m Fitting model: LightGBMXT_BAG_L2 ... Training model for up to 41.69s of the 41.66s of remaining time.\n",
      "\u001b[36m(_dystack pid=6481)\u001b[0m \tFitting 8 child models (S1F1 - S1F8) | Fitting with ParallelLocalFoldFittingStrategy (2 workers, per: cpus=1, gpus=0, memory=0.63%)\n"
     ]
    },
    {
     "name": "stdout",
     "output_type": "stream",
     "text": [
      "\u001b[36m(_ray_fit pid=7253)\u001b[0m [1000]\tvalid_set's rmse: 0.593637\u001b[32m [repeated 2x across cluster]\u001b[0m\n",
      "\u001b[36m(_ray_fit pid=7385)\u001b[0m [1000]\tvalid_set's rmse: 0.558899\n",
      "\u001b[36m(_ray_fit pid=7387)\u001b[0m [1000]\tvalid_set's rmse: 0.515225\n"
     ]
    },
    {
     "name": "stderr",
     "output_type": "stream",
     "text": [
      "\u001b[36m(_dystack pid=6481)\u001b[0m \t-0.5525\t = Validation score   (-root_mean_squared_error)\n",
      "\u001b[36m(_dystack pid=6481)\u001b[0m \t24.89s\t = Training   runtime\n",
      "\u001b[36m(_dystack pid=6481)\u001b[0m \t0.65s\t = Validation runtime\n",
      "\u001b[36m(_dystack pid=6481)\u001b[0m Fitting model: LightGBM_BAG_L2 ... Training model for up to 13.65s of the 13.63s of remaining time.\n",
      "\u001b[36m(_dystack pid=6481)\u001b[0m \tFitting 8 child models (S1F1 - S1F8) | Fitting with ParallelLocalFoldFittingStrategy (2 workers, per: cpus=1, gpus=0, memory=0.79%)\n",
      "\u001b[36m(_dystack pid=6481)\u001b[0m \t-0.5339\t = Validation score   (-root_mean_squared_error)\n",
      "\u001b[36m(_dystack pid=6481)\u001b[0m \t21.32s\t = Training   runtime\n",
      "\u001b[36m(_dystack pid=6481)\u001b[0m \t0.12s\t = Validation runtime\n",
      "\u001b[36m(_dystack pid=6481)\u001b[0m I0000 00:00:1753825129.342295    6539 chttp2_transport.cc:1182] ipv4:169.255.255.2:37857: Got goaway [2] err=UNAVAILABLE:GOAWAY received; Error code: 2; Debug Text: Cancelling all calls {grpc_status:14, http2_error:2, created_time:\"2025-07-29T21:38:49.342291722+00:00\"}\n",
      "\u001b[36m(_dystack pid=6481)\u001b[0m Fitting model: WeightedEnsemble_L3 ... Training model for up to 144.58s of the -11.21s of remaining time.\n",
      "\u001b[36m(_dystack pid=6481)\u001b[0m \tEnsemble Weights: {'LightGBM_BAG_L2': 0.846, 'LightGBMXT_BAG_L2': 0.154}\n",
      "\u001b[36m(_dystack pid=6481)\u001b[0m \t-0.5332\t = Validation score   (-root_mean_squared_error)\n",
      "\u001b[36m(_dystack pid=6481)\u001b[0m \t0.02s\t = Training   runtime\n",
      "\u001b[36m(_dystack pid=6481)\u001b[0m \t0.0s\t = Validation runtime\n",
      "\u001b[36m(_dystack pid=6481)\u001b[0m AutoGluon training complete, total runtime = 155.9s ... Best model: WeightedEnsemble_L3 | Estimated inference throughput: 114.9 rows/s (968 batch size)\n",
      "\u001b[36m(_dystack pid=6481)\u001b[0m TabularPredictor saved. To load, use: predictor = TabularPredictor.load(\"/home/sagemaker-user/nd009t-c1-intro-to-ml-project-starter/AutogluonModels/ag-20250729_213603/ds_sub_fit/sub_fit_ho\")\n",
      "\u001b[36m(_dystack pid=6481)\u001b[0m Deleting DyStack predictor artifacts (clean_up_fits=True) ...\n",
      "Leaderboard on holdout data (DyStack):\n",
      "                    model  score_holdout  score_val              eval_metric  pred_time_test  pred_time_val    fit_time  pred_time_test_marginal  pred_time_val_marginal  fit_time_marginal  stack_level  can_infer  fit_order\n",
      "0     WeightedEnsemble_L3      -0.579916  -0.533226  root_mean_squared_error        8.807465       8.920340  138.327420                 0.002062                0.000545           0.015646            3       True          9\n",
      "1         LightGBM_BAG_L2      -0.580777  -0.533852  root_mean_squared_error        8.221936       8.272134  113.417588                 0.092349                0.115653          21.316671            2       True          8\n",
      "2       LightGBMXT_BAG_L2      -0.591109  -0.552528  root_mean_squared_error        8.713055       8.804142  116.995102                 0.583468                0.647661          24.894185            2       True          7\n",
      "3   KNeighborsDist_BAG_L1      -0.681146  -0.654334  root_mean_squared_error        0.020963       0.035263    0.014204                 0.020963                0.035263           0.014204            1       True          2\n",
      "4     WeightedEnsemble_L2      -0.681146  -0.654334  root_mean_squared_error        0.022659       0.035769    0.029864                 0.001695                0.000505           0.015660            2       True          6\n",
      "5   KNeighborsUnif_BAG_L1      -0.838768  -0.829392  root_mean_squared_error        0.021158       0.040087    0.015663                 0.021158                0.040087           0.015663            1       True          1\n",
      "6  RandomForestMSE_BAG_L1      -0.935923  -0.946996  root_mean_squared_error        0.431869       0.488775   10.903764                 0.431869                0.488775          10.903764            1       True          5\n",
      "7         LightGBM_BAG_L1      -1.021426  -1.059695  root_mean_squared_error        0.998374       1.077133   26.512736                 0.998374                1.077133          26.512736            1       True          4\n",
      "8       LightGBMXT_BAG_L1      -1.032856  -1.058116  root_mean_squared_error        6.657222       6.515223   54.654550                 6.657222                6.515223          54.654550            1       True          3\n",
      "\t1\t = Optimal   num_stack_levels (Stacked Overfitting Occurred: False)\n",
      "\t172s\t = DyStack   runtime |\t428s\t = Remaining runtime\n",
      "Starting main fit with num_stack_levels=1.\n",
      "\tFor future fit calls on this dataset, you can skip DyStack to save time: `predictor.fit(..., dynamic_stacking=False, num_stack_levels=1)`\n",
      "/opt/conda/lib/python3.12/site-packages/autogluon/common/utils/utils.py:97: UserWarning: pkg_resources is deprecated as an API. See https://setuptools.pypa.io/en/latest/pkg_resources.html. The pkg_resources package is slated for removal as early as 2025-11-30. Refrain from using this package or pin to Setuptools<81.\n",
      "  import pkg_resources\n",
      "Beginning AutoGluon training ... Time limit = 428s\n",
      "AutoGluon will save models to \"/home/sagemaker-user/nd009t-c1-intro-to-ml-project-starter/AutogluonModels/ag-20250729_213603\"\n",
      "Train Data Rows:    8708\n",
      "Train Data Columns: 9\n",
      "Label Column:       count\n",
      "Problem Type:       regression\n",
      "Preprocessing data ...\n",
      "Using Feature Generators to preprocess the data ...\n",
      "Fitting AutoMLPipelineFeatureGenerator...\n",
      "\tAvailable Memory:                    1801.40 MB\n",
      "\tTrain Data (Original)  Memory Usage: 1.10 MB (0.1% of available memory)\n",
      "\tInferring data type of each feature based on column values. Set feature_metadata_in to manually specify special dtypes of the features.\n",
      "\tStage 1 Generators:\n",
      "\t\tFitting AsTypeFeatureGenerator...\n",
      "\t\t\tNote: Converting 2 features to boolean dtype as they only contain 2 unique values.\n",
      "\tStage 2 Generators:\n",
      "\t\tFitting FillNaFeatureGenerator...\n",
      "\tStage 3 Generators:\n",
      "\t\tFitting IdentityFeatureGenerator...\n",
      "\t\tFitting DatetimeFeatureGenerator...\n",
      "\tStage 4 Generators:\n",
      "\t\tFitting DropUniqueFeatureGenerator...\n",
      "\tStage 5 Generators:\n",
      "\t\tFitting DropDuplicatesFeatureGenerator...\n",
      "\tTypes of features in original data (raw dtype, special dtypes):\n",
      "\t\t('float', [])                      : 3 | ['temp', 'atemp', 'windspeed']\n",
      "\t\t('int', [])                        : 5 | ['season', 'holiday', 'workingday', 'weather', 'humidity']\n",
      "\t\t('object', ['datetime_as_object']) : 1 | ['datetime']\n",
      "\tTypes of features in processed data (raw dtype, special dtypes):\n",
      "\t\t('float', [])                : 3 | ['temp', 'atemp', 'windspeed']\n",
      "\t\t('int', [])                  : 3 | ['season', 'weather', 'humidity']\n",
      "\t\t('int', ['bool'])            : 2 | ['holiday', 'workingday']\n",
      "\t\t('int', ['datetime_as_int']) : 5 | ['datetime', 'datetime.year', 'datetime.month', 'datetime.day', 'datetime.dayofweek']\n",
      "\t0.1s = Fit runtime\n",
      "\t9 features in original data used to generate 13 features in processed data.\n",
      "\tTrain Data (Processed) Memory Usage: 0.75 MB (0.0% of available memory)\n",
      "Data preprocessing and feature engineering runtime = 0.14s ...\n",
      "AutoGluon will gauge predictive performance using evaluation metric: 'root_mean_squared_error'\n",
      "\tThis metric's sign has been flipped to adhere to being higher_is_better. The metric score can be multiplied by -1 to get the metric value.\n",
      "\tTo change this, specify the eval_metric parameter of Predictor()\n",
      "Large model count detected (112 configs) ... Only displaying the first 3 models of each family. To see all, set `verbosity=3`.\n",
      "User-specified model hyperparameters to be fit:\n",
      "{\n",
      "\t'NN_TORCH': [{}, {'activation': 'elu', 'dropout_prob': 0.10077639529843717, 'hidden_size': 108, 'learning_rate': 0.002735937344002146, 'num_layers': 4, 'use_batchnorm': True, 'weight_decay': 1.356433327634438e-12, 'ag_args': {'name_suffix': '_r79', 'priority': -2}}, {'activation': 'elu', 'dropout_prob': 0.11897478034205347, 'hidden_size': 213, 'learning_rate': 0.0010474382260641949, 'num_layers': 4, 'use_batchnorm': False, 'weight_decay': 5.594471067786272e-10, 'ag_args': {'name_suffix': '_r22', 'priority': -7}}],\n",
      "\t'GBM': [{'extra_trees': True, 'ag_args': {'name_suffix': 'XT'}}, {}, {'learning_rate': 0.03, 'num_leaves': 128, 'feature_fraction': 0.9, 'min_data_in_leaf': 3, 'ag_args': {'name_suffix': 'Large', 'priority': 0, 'hyperparameter_tune_kwargs': None}}],\n",
      "\t'CAT': [{}, {'depth': 6, 'grow_policy': 'SymmetricTree', 'l2_leaf_reg': 2.1542798306067823, 'learning_rate': 0.06864209415792857, 'max_ctr_complexity': 4, 'one_hot_max_size': 10, 'ag_args': {'name_suffix': '_r177', 'priority': -1}}, {'depth': 8, 'grow_policy': 'Depthwise', 'l2_leaf_reg': 2.7997999596449104, 'learning_rate': 0.031375015734637225, 'max_ctr_complexity': 2, 'one_hot_max_size': 3, 'ag_args': {'name_suffix': '_r9', 'priority': -5}}],\n",
      "\t'XGB': [{}, {'colsample_bytree': 0.6917311125174739, 'enable_categorical': False, 'learning_rate': 0.018063876087523967, 'max_depth': 10, 'min_child_weight': 0.6028633586934382, 'ag_args': {'name_suffix': '_r33', 'priority': -8}}, {'colsample_bytree': 0.6628423832084077, 'enable_categorical': False, 'learning_rate': 0.08775715546881824, 'max_depth': 5, 'min_child_weight': 0.6294123374222513, 'ag_args': {'name_suffix': '_r89', 'priority': -16}}],\n",
      "\t'FASTAI': [{}, {'bs': 256, 'emb_drop': 0.5411770367537934, 'epochs': 43, 'layers': [800, 400], 'lr': 0.01519848858318159, 'ps': 0.23782946566604385, 'ag_args': {'name_suffix': '_r191', 'priority': -4}}, {'bs': 2048, 'emb_drop': 0.05070411322605811, 'epochs': 29, 'layers': [200, 100], 'lr': 0.08974235041576624, 'ps': 0.10393466140748028, 'ag_args': {'name_suffix': '_r102', 'priority': -11}}],\n",
      "\t'RF': [{'criterion': 'gini', 'ag_args': {'name_suffix': 'Gini', 'problem_types': ['binary', 'multiclass']}}, {'criterion': 'entropy', 'ag_args': {'name_suffix': 'Entr', 'problem_types': ['binary', 'multiclass']}}, {'criterion': 'squared_error', 'ag_args': {'name_suffix': 'MSE', 'problem_types': ['regression', 'quantile']}}],\n",
      "\t'XT': [{'criterion': 'gini', 'ag_args': {'name_suffix': 'Gini', 'problem_types': ['binary', 'multiclass']}}, {'criterion': 'entropy', 'ag_args': {'name_suffix': 'Entr', 'problem_types': ['binary', 'multiclass']}}, {'criterion': 'squared_error', 'ag_args': {'name_suffix': 'MSE', 'problem_types': ['regression', 'quantile']}}],\n",
      "\t'KNN': [{'weights': 'uniform', 'ag_args': {'name_suffix': 'Unif'}}, {'weights': 'distance', 'ag_args': {'name_suffix': 'Dist'}}],\n",
      "}\n",
      "AutoGluon will fit 2 stack levels (L1 to L2) ...\n",
      "Fitting 108 L1 models, fit_strategy=\"sequential\" ...\n",
      "Fitting model: KNeighborsUnif_BAG_L1 ... Training model for up to 284.96s of the 427.53s of remaining time.\n",
      "\t-0.7521\t = Validation score   (-root_mean_squared_error)\n",
      "\t0.06s\t = Training   runtime\n",
      "\t0.12s\t = Validation runtime\n",
      "Fitting model: KNeighborsDist_BAG_L1 ... Training model for up to 281.57s of the 424.14s of remaining time.\n",
      "\t-0.5998\t = Validation score   (-root_mean_squared_error)\n",
      "\t0.02s\t = Training   runtime\n",
      "\t0.06s\t = Validation runtime\n",
      "Fitting model: LightGBMXT_BAG_L1 ... Training model for up to 281.44s of the 424.01s of remaining time.\n",
      "\tFitting 8 child models (S1F1 - S1F8) | Fitting with ParallelLocalFoldFittingStrategy (2 workers, per: cpus=1, gpus=0, memory=0.51%)\n",
      "\t-1.0358\t = Validation score   (-root_mean_squared_error)\n",
      "\t76.55s\t = Training   runtime\n",
      "\t13.18s\t = Validation runtime\n",
      "Fitting model: LightGBM_BAG_L1 ... Training model for up to 200.09s of the 342.66s of remaining time.\n",
      "\tFitting 8 child models (S1F1 - S1F8) | Fitting with ParallelLocalFoldFittingStrategy (2 workers, per: cpus=1, gpus=0, memory=0.57%)\n",
      "WARNING: All log messages before absl::InitializeLog() is called are written to STDERR\n",
      "I0000 00:00:1753825244.277679    6560 chttp2_transport.cc:1182] ipv4:169.255.255.2:36435: Got goaway [2] err=UNAVAILABLE:GOAWAY received; Error code: 2; Debug Text: Cancelling all calls {created_time:\"2025-07-29T21:40:44.277665376+00:00\", http2_error:2, grpc_status:14}\n",
      "\t-1.0395\t = Validation score   (-root_mean_squared_error)\n",
      "\t31.13s\t = Training   runtime\n",
      "\t1.7s\t = Validation runtime\n",
      "Fitting model: RandomForestMSE_BAG_L1 ... Training model for up to 165.16s of the 307.73s of remaining time.\n",
      "/opt/conda/lib/python3.12/site-packages/sklearn/base.py:474: FutureWarning: `BaseEstimator._validate_data` is deprecated in 1.6 and will be removed in 1.7. Use `sklearn.utils.validation.validate_data` instead. This function becomes public and is part of the scikit-learn developer API.\n",
      "  warnings.warn(\n",
      "\t-0.9182\t = Validation score   (-root_mean_squared_error)\n",
      "\t11.92s\t = Training   runtime\n",
      "\t0.59s\t = Validation runtime\n",
      "Fitting model: CatBoost_BAG_L1 ... Training model for up to 152.33s of the 294.90s of remaining time.\n",
      "\tMemory not enough to fit 8 folds in parallel. Will train 2 folds in parallel instead (Estimated 20.16% memory usage per fold, 40.31%/80.00% total).\n",
      "\tFitting 8 child models (S1F1 - S1F8) | Fitting with ParallelLocalFoldFittingStrategy (2 workers, per: cpus=1, gpus=0, memory=20.16%)\n",
      "\t-1.0401\t = Validation score   (-root_mean_squared_error)\n",
      "\t133.41s\t = Training   runtime\n",
      "\t0.16s\t = Validation runtime\n",
      "Fitting model: ExtraTreesMSE_BAG_L1 ... Training model for up to 15.66s of the 158.23s of remaining time.\n",
      "/opt/conda/lib/python3.12/site-packages/sklearn/base.py:474: FutureWarning: `BaseEstimator._validate_data` is deprecated in 1.6 and will be removed in 1.7. Use `sklearn.utils.validation.validate_data` instead. This function becomes public and is part of the scikit-learn developer API.\n",
      "  warnings.warn(\n",
      "\t-0.9767\t = Validation score   (-root_mean_squared_error)\n",
      "\t6.53s\t = Training   runtime\n",
      "\t0.71s\t = Validation runtime\n",
      "Fitting model: NeuralNetFastAI_BAG_L1 ... Training model for up to 8.12s of the 150.69s of remaining time.\n",
      "\tFitting 8 child models (S1F1 - S1F8) | Fitting with ParallelLocalFoldFittingStrategy (2 workers, per: cpus=1, gpus=0, memory=0.47%)\n",
      "\t-1.2003\t = Validation score   (-root_mean_squared_error)\n",
      "\t33.23s\t = Training   runtime\n",
      "\t0.27s\t = Validation runtime\n",
      "Fitting model: WeightedEnsemble_L2 ... Training model for up to 360.00s of the 113.96s of remaining time.\n",
      "\tEnsemble Weights: {'KNeighborsDist_BAG_L1': 1.0}\n",
      "\t-0.5998\t = Validation score   (-root_mean_squared_error)\n",
      "\t0.02s\t = Training   runtime\n",
      "\t0.0s\t = Validation runtime\n",
      "Fitting 106 L2 models, fit_strategy=\"sequential\" ...\n",
      "Fitting model: LightGBMXT_BAG_L2 ... Training model for up to 113.92s of the 113.89s of remaining time.\n",
      "\tFitting 8 child models (S1F1 - S1F8) | Fitting with ParallelLocalFoldFittingStrategy (2 workers, per: cpus=1, gpus=0, memory=0.97%)\n",
      "\t-0.4965\t = Validation score   (-root_mean_squared_error)\n",
      "\t31.11s\t = Training   runtime\n",
      "\t1.4s\t = Validation runtime\n",
      "Fitting model: LightGBM_BAG_L2 ... Training model for up to 77.68s of the 77.64s of remaining time.\n",
      "\tFitting 8 child models (S1F1 - S1F8) | Fitting with ParallelLocalFoldFittingStrategy (2 workers, per: cpus=1, gpus=0, memory=0.76%)\n",
      "\t-0.4783\t = Validation score   (-root_mean_squared_error)\n",
      "\t23.01s\t = Training   runtime\n",
      "\t0.12s\t = Validation runtime\n",
      "Fitting model: RandomForestMSE_BAG_L2 ... Training model for up to 50.92s of the 50.89s of remaining time.\n",
      "/opt/conda/lib/python3.12/site-packages/sklearn/base.py:474: FutureWarning: `BaseEstimator._validate_data` is deprecated in 1.6 and will be removed in 1.7. Use `sklearn.utils.validation.validate_data` instead. This function becomes public and is part of the scikit-learn developer API.\n",
      "  warnings.warn(\n",
      "\t-0.478\t = Validation score   (-root_mean_squared_error)\n",
      "\t32.87s\t = Training   runtime\n",
      "\t0.6s\t = Validation runtime\n",
      "Fitting model: CatBoost_BAG_L2 ... Training model for up to 17.14s of the 17.10s of remaining time.\n",
      "\tMemory not enough to fit 8 folds in parallel. Will train 2 folds in parallel instead (Estimated 20.60% memory usage per fold, 41.19%/80.00% total).\n",
      "\tFitting 8 child models (S1F1 - S1F8) | Fitting with ParallelLocalFoldFittingStrategy (2 workers, per: cpus=1, gpus=0, memory=20.60%)\n",
      "\t-0.4838\t = Validation score   (-root_mean_squared_error)\n",
      "\t25.04s\t = Training   runtime\n",
      "\t0.23s\t = Validation runtime\n",
      "I0000 00:00:1753825577.662199    6559 chttp2_transport.cc:1182] ipv4:169.255.255.2:36421: Got goaway [2] err=UNAVAILABLE:GOAWAY received; Error code: 2; Debug Text: Cancelling all calls {grpc_status:14, http2_error:2, created_time:\"2025-07-29T21:46:17.662194765+00:00\"}\n",
      "Fitting model: WeightedEnsemble_L3 ... Training model for up to 360.00s of the -11.46s of remaining time.\n",
      "\tEnsemble Weights: {'RandomForestMSE_BAG_L2': 0.48, 'LightGBM_BAG_L2': 0.24, 'CatBoost_BAG_L2': 0.24, 'LightGBMXT_BAG_L2': 0.04}\n",
      "\t-0.4717\t = Validation score   (-root_mean_squared_error)\n",
      "\t0.03s\t = Training   runtime\n",
      "\t0.0s\t = Validation runtime\n",
      "AutoGluon training complete, total runtime = 439.2s ... Best model: WeightedEnsemble_L3 | Estimated inference throughput: 62.8 rows/s (1089 batch size)\n",
      "TabularPredictor saved. To load, use: predictor = TabularPredictor.load(\"/home/sagemaker-user/nd009t-c1-intro-to-ml-project-starter/AutogluonModels/ag-20250729_213603\")\n"
     ]
    }
   ],
   "source": [
    "\n",
    "predictor = TabularPredictor(label='count', verbosity=2).fit(\n",
    "    train_data=train_data,\n",
    "    presets='best_quality',\n",
    "    time_limit=600 \n",
    ")\n"
   ]
  },
  {
   "cell_type": "code",
   "execution_count": 24,
   "id": "6f312b0b-30ae-4ad8-93a6-e8e9dfa765c4",
   "metadata": {
    "execution": {
     "iopub.execute_input": "2025-07-29T22:32:48.642307Z",
     "iopub.status.busy": "2025-07-29T22:32:48.641452Z",
     "iopub.status.idle": "2025-07-29T22:33:49.280128Z",
     "shell.execute_reply": "2025-07-29T22:33:49.279483Z",
     "shell.execute_reply.started": "2025-07-29T22:32:48.642280Z"
    }
   },
   "outputs": [
    {
     "name": "stderr",
     "output_type": "stream",
     "text": [
      "Verbosity: 2 (Standard Logging)\n",
      "=================== System Info ===================\n",
      "AutoGluon Version:  1.3.1\n",
      "Python Version:     3.12.9\n",
      "Operating System:   Linux\n",
      "Platform Machine:   x86_64\n",
      "Platform Version:   #1 SMP Tue Jun 17 10:30:46 UTC 2025\n",
      "CPU Count:          2\n",
      "Memory Avail:       1.48 GB / 3.76 GB (39.4%)\n",
      "Disk Space Avail:   2.72 GB / 4.99 GB (54.6%)\n",
      "\tWARNING: Available disk space is low and there is a risk that AutoGluon will run out of disk during fit, causing an exception. \n",
      "\tWe recommend a minimum available disk space of 10 GB, and large datasets may require more.\n",
      "===================================================\n",
      "No presets specified! To achieve strong results with AutoGluon, it is recommended to use the available presets. Defaulting to `'medium'`...\n",
      "\tRecommended Presets (For more details refer to https://auto.gluon.ai/stable/tutorials/tabular/tabular-essentials.html#presets):\n",
      "\tpresets='experimental' : New in v1.2: Pre-trained foundation model + parallel fits. The absolute best accuracy without consideration for inference speed. Does not support GPU.\n",
      "\tpresets='best'         : Maximize accuracy. Recommended for most users. Use in competitions and benchmarks.\n",
      "\tpresets='high'         : Strong accuracy with fast inference speed.\n",
      "\tpresets='good'         : Good accuracy with very fast inference speed.\n",
      "\tpresets='medium'       : Fast training time, ideal for initial prototyping.\n",
      "Beginning AutoGluon training ...\n",
      "AutoGluon will save models to \"/home/sagemaker-user/nd009t-c1-intro-to-ml-project-starter/models/tuned_model\"\n",
      "Train Data Rows:    8708\n",
      "Train Data Columns: 9\n",
      "Label Column:       count\n",
      "AutoGluon infers your prediction problem is: 'regression' (because dtype of label-column == float and many unique label-values observed).\n",
      "\tLabel info (max, min, mean, stddev): (6.878326468291324, 0.6931471805599453, 4.59378, 1.41559)\n",
      "\tIf 'regression' is not the correct problem_type, please manually specify the problem_type parameter during Predictor init (You may specify problem_type as one of: ['binary', 'multiclass', 'regression', 'quantile'])\n",
      "Problem Type:       regression\n",
      "Preprocessing data ...\n",
      "Using Feature Generators to preprocess the data ...\n",
      "Fitting AutoMLPipelineFeatureGenerator...\n",
      "\tAvailable Memory:                    1520.09 MB\n",
      "\tTrain Data (Original)  Memory Usage: 1.10 MB (0.1% of available memory)\n",
      "\tInferring data type of each feature based on column values. Set feature_metadata_in to manually specify special dtypes of the features.\n",
      "\tStage 1 Generators:\n",
      "\t\tFitting AsTypeFeatureGenerator...\n",
      "\t\t\tNote: Converting 2 features to boolean dtype as they only contain 2 unique values.\n",
      "\tStage 2 Generators:\n",
      "\t\tFitting FillNaFeatureGenerator...\n",
      "\tStage 3 Generators:\n",
      "\t\tFitting IdentityFeatureGenerator...\n",
      "\t\tFitting DatetimeFeatureGenerator...\n",
      "\tStage 4 Generators:\n",
      "\t\tFitting DropUniqueFeatureGenerator...\n",
      "\tStage 5 Generators:\n",
      "\t\tFitting DropDuplicatesFeatureGenerator...\n",
      "\tTypes of features in original data (raw dtype, special dtypes):\n",
      "\t\t('float', [])                      : 3 | ['temp', 'atemp', 'windspeed']\n",
      "\t\t('int', [])                        : 5 | ['season', 'holiday', 'workingday', 'weather', 'humidity']\n",
      "\t\t('object', ['datetime_as_object']) : 1 | ['datetime']\n",
      "\tTypes of features in processed data (raw dtype, special dtypes):\n",
      "\t\t('float', [])                : 3 | ['temp', 'atemp', 'windspeed']\n",
      "\t\t('int', [])                  : 3 | ['season', 'weather', 'humidity']\n",
      "\t\t('int', ['bool'])            : 2 | ['holiday', 'workingday']\n",
      "\t\t('int', ['datetime_as_int']) : 5 | ['datetime', 'datetime.year', 'datetime.month', 'datetime.day', 'datetime.dayofweek']\n",
      "\t0.1s = Fit runtime\n",
      "\t9 features in original data used to generate 13 features in processed data.\n",
      "\tTrain Data (Processed) Memory Usage: 0.75 MB (0.0% of available memory)\n",
      "Data preprocessing and feature engineering runtime = 0.11s ...\n",
      "AutoGluon will gauge predictive performance using evaluation metric: 'root_mean_squared_error'\n",
      "\tThis metric's sign has been flipped to adhere to being higher_is_better. The metric score can be multiplied by -1 to get the metric value.\n",
      "\tTo change this, specify the eval_metric parameter of Predictor()\n",
      "Automatically generating train/validation split with holdout_frac=0.1, Train Rows: 7837, Val Rows: 871\n",
      "User-specified model hyperparameters to be fit:\n",
      "{\n",
      "\t'GBM': [{'extra_trees': True, 'ag_args': {'name_suffix': 'XT'}}],\n",
      "\t'CAT': [{}],\n",
      "\t'XGB': [{}],\n",
      "}\n",
      "Fitting 3 L1 models, fit_strategy=\"sequential\" ...\n",
      "Fitting model: LightGBMXT ...\n"
     ]
    },
    {
     "name": "stdout",
     "output_type": "stream",
     "text": [
      "[1000]\tvalid_set's rmse: 1.08096\n",
      "[2000]\tvalid_set's rmse: 1.07328\n",
      "[3000]\tvalid_set's rmse: 1.06969\n",
      "[4000]\tvalid_set's rmse: 1.06634\n",
      "[5000]\tvalid_set's rmse: 1.06503\n",
      "[6000]\tvalid_set's rmse: 1.06501\n",
      "[7000]\tvalid_set's rmse: 1.06461\n"
     ]
    },
    {
     "name": "stderr",
     "output_type": "stream",
     "text": [
      "\t-1.0639\t = Validation score   (-root_mean_squared_error)\n",
      "\t6.58s\t = Training   runtime\n",
      "\t0.67s\t = Validation runtime\n",
      "Fitting model: CatBoost ...\n",
      "\t-1.0465\t = Validation score   (-root_mean_squared_error)\n",
      "\t50.68s\t = Training   runtime\n",
      "\t0.01s\t = Validation runtime\n",
      "Fitting model: XGBoost ...\n",
      "\t-1.0435\t = Validation score   (-root_mean_squared_error)\n",
      "\t1.68s\t = Training   runtime\n",
      "\t0.04s\t = Validation runtime\n",
      "Fitting model: WeightedEnsemble_L2 ...\n",
      "\tEnsemble Weights: {'XGBoost': 0.5, 'CatBoost': 0.333, 'LightGBMXT': 0.167}\n",
      "\t-1.035\t = Validation score   (-root_mean_squared_error)\n",
      "\t0.01s\t = Training   runtime\n",
      "\t0.0s\t = Validation runtime\n",
      "AutoGluon training complete, total runtime = 60.61s ... Best model: WeightedEnsemble_L2 | Estimated inference throughput: 1229.2 rows/s (871 batch size)\n",
      "TabularPredictor saved. To load, use: predictor = TabularPredictor.load(\"/home/sagemaker-user/nd009t-c1-intro-to-ml-project-starter/models/tuned_model\")\n"
     ]
    }
   ],
   "source": [
    "predictor_v3 = TabularPredictor(label='count', path='models/tuned_model/').fit(\n",
    "    train_data,\n",
    "    hyperparameters={\n",
    "        'GBM': {'extra_trees': True, 'ag_args': {'name_suffix': 'XT'}},\n",
    "        'CAT': {}, 'XGB': {}\n",
    "    }\n",
    ")\n"
   ]
  },
  {
   "cell_type": "code",
   "execution_count": 10,
   "id": "cc45cc5d-2368-4e35-9c3f-d8ed1d26128b",
   "metadata": {
    "execution": {
     "iopub.execute_input": "2025-07-29T21:46:17.877647Z",
     "iopub.status.busy": "2025-07-29T21:46:17.876855Z",
     "iopub.status.idle": "2025-07-29T21:46:17.882949Z",
     "shell.execute_reply": "2025-07-29T21:46:17.882130Z",
     "shell.execute_reply.started": "2025-07-29T21:46:17.877613Z"
    }
   },
   "outputs": [],
   "source": [
    "#predictor.feature_importance(val_data)\n"
   ]
  },
  {
   "cell_type": "code",
   "execution_count": 11,
   "id": "83086b85-c896-4ea3-b721-2054d630bc04",
   "metadata": {
    "execution": {
     "iopub.execute_input": "2025-07-29T21:46:17.885778Z",
     "iopub.status.busy": "2025-07-29T21:46:17.883875Z",
     "iopub.status.idle": "2025-07-29T21:46:45.489926Z",
     "shell.execute_reply": "2025-07-29T21:46:45.488852Z",
     "shell.execute_reply.started": "2025-07-29T21:46:17.885746Z"
    }
   },
   "outputs": [
    {
     "name": "stdout",
     "output_type": "stream",
     "text": [
      "Validation RMSE: 0.49\n"
     ]
    }
   ],
   "source": [
    "\n",
    "val_predictions = predictor.predict(val_data)\n",
    "\n",
    "rmse = np.sqrt(mean_squared_error(val_data['count'], val_predictions))\n",
    "print(f\"Validation RMSE: {rmse:.2f}\")"
   ]
  },
  {
   "cell_type": "code",
   "execution_count": 12,
   "id": "da63a9ae-a0e3-4be0-ab8b-1a8331722c03",
   "metadata": {
    "execution": {
     "iopub.execute_input": "2025-07-29T21:46:45.492185Z",
     "iopub.status.busy": "2025-07-29T21:46:45.491090Z",
     "iopub.status.idle": "2025-07-29T21:47:53.097536Z",
     "shell.execute_reply": "2025-07-29T21:47:53.096715Z",
     "shell.execute_reply.started": "2025-07-29T21:46:45.492159Z"
    }
   },
   "outputs": [
    {
     "name": "stdout",
     "output_type": "stream",
     "text": [
      "0       3.097729\n",
      "1       3.637753\n",
      "2       3.755775\n",
      "3       3.929658\n",
      "4       3.945203\n",
      "          ...   \n",
      "6488    5.597374\n",
      "6489    5.597374\n",
      "6490    5.627162\n",
      "6491    5.599579\n",
      "6492    5.566166\n",
      "Name: count, Length: 6493, dtype: float32\n"
     ]
    }
   ],
   "source": [
    "predictions = predictor.predict(test_data)\n",
    "print(predictions)"
   ]
  },
  {
   "cell_type": "code",
   "execution_count": 29,
   "id": "5fc34cc3-5b9d-47b8-8797-9a0552e42be0",
   "metadata": {
    "execution": {
     "iopub.execute_input": "2025-07-29T22:38:35.375691Z",
     "iopub.status.busy": "2025-07-29T22:38:35.375328Z",
     "iopub.status.idle": "2025-07-29T22:38:40.608888Z",
     "shell.execute_reply": "2025-07-29T22:38:40.608092Z",
     "shell.execute_reply.started": "2025-07-29T22:38:35.375666Z"
    }
   },
   "outputs": [],
   "source": [
    "predictions_v3 = predictor_v3.predict(test_data)\n"
   ]
  },
  {
   "cell_type": "code",
   "execution_count": 13,
   "id": "bb889eb2-a8b5-4730-acf2-6235db7c230f",
   "metadata": {
    "execution": {
     "iopub.execute_input": "2025-07-29T21:47:53.098895Z",
     "iopub.status.busy": "2025-07-29T21:47:53.098447Z",
     "iopub.status.idle": "2025-07-29T21:47:53.105154Z",
     "shell.execute_reply": "2025-07-29T21:47:53.104467Z",
     "shell.execute_reply.started": "2025-07-29T21:47:53.098865Z"
    }
   },
   "outputs": [
    {
     "name": "stdout",
     "output_type": "stream",
     "text": [
      "Baseline RMSE: 1.43\n"
     ]
    }
   ],
   "source": [
    "mean_count = train_data['count'].mean()\n",
    "baseline_preds = [mean_count] * len(val_data)\n",
    "baseline_rmse = np.sqrt(mean_squared_error(val_data['count'], baseline_preds))\n",
    "print(f\"Baseline RMSE: {baseline_rmse:.2f}\")\n"
   ]
  },
  {
   "cell_type": "code",
   "execution_count": 14,
   "id": "26419622-7400-4e18-b2a2-5e564020f7e7",
   "metadata": {
    "execution": {
     "iopub.execute_input": "2025-07-29T21:47:53.106788Z",
     "iopub.status.busy": "2025-07-29T21:47:53.106103Z",
     "iopub.status.idle": "2025-07-29T21:47:53.112034Z",
     "shell.execute_reply": "2025-07-29T21:47:53.111357Z",
     "shell.execute_reply.started": "2025-07-29T21:47:53.106707Z"
    }
   },
   "outputs": [
    {
     "name": "stdout",
     "output_type": "stream",
     "text": [
      "Min: 0.6931471805599453\n",
      "Max: 6.878326468291324\n",
      "Mean: 4.593780262481976\n"
     ]
    }
   ],
   "source": [
    "print(\"Min:\", train_data['count'].min())\n",
    "print(\"Max:\", train_data['count'].max())\n",
    "print(\"Mean:\", train_data['count'].mean())\n"
   ]
  },
  {
   "cell_type": "code",
   "execution_count": 36,
   "id": "502c23a1-4c96-405b-a6f8-c7bb5c63472d",
   "metadata": {
    "execution": {
     "iopub.execute_input": "2025-07-29T22:44:54.041026Z",
     "iopub.status.busy": "2025-07-29T22:44:54.040392Z",
     "iopub.status.idle": "2025-07-29T22:44:54.048046Z",
     "shell.execute_reply": "2025-07-29T22:44:54.046980Z",
     "shell.execute_reply.started": "2025-07-29T22:44:54.041000Z"
    }
   },
   "outputs": [
    {
     "name": "stdout",
     "output_type": "stream",
     "text": [
      "R² Score: 88.14%\n"
     ]
    }
   ],
   "source": [
    "\n",
    "r2 = r2_score(val_data['count'], val_predictions)\n",
    "print(f\"R² Score: {r2:.2%}\")\n"
   ]
  },
  {
   "cell_type": "code",
   "execution_count": 28,
   "id": "f79bca9d-e25a-4177-bcc8-f0a6d16965cf",
   "metadata": {
    "execution": {
     "iopub.execute_input": "2025-07-29T22:38:20.851688Z",
     "iopub.status.busy": "2025-07-29T22:38:20.851290Z",
     "iopub.status.idle": "2025-07-29T22:38:20.858886Z",
     "shell.execute_reply": "2025-07-29T22:38:20.858208Z",
     "shell.execute_reply.started": "2025-07-29T22:38:20.851655Z"
    }
   },
   "outputs": [
    {
     "name": "stdout",
     "output_type": "stream",
     "text": [
      "RMSLE: 0.12713688955659389\n"
     ]
    }
   ],
   "source": [
    "from sklearn.metrics import mean_squared_log_error\n",
    "\n",
    "rmsle = np.sqrt(mean_squared_log_error(val_data['count'], val_predictions))\n",
    "print(\"RMSLE:\", rmsle)"
   ]
  },
  {
   "cell_type": "code",
   "execution_count": 16,
   "id": "aa6947b3-41d6-4213-a7da-c3f9d6622cac",
   "metadata": {
    "execution": {
     "iopub.execute_input": "2025-07-29T21:47:53.120697Z",
     "iopub.status.busy": "2025-07-29T21:47:53.120354Z",
     "iopub.status.idle": "2025-07-29T21:47:53.124589Z",
     "shell.execute_reply": "2025-07-29T21:47:53.123799Z",
     "shell.execute_reply.started": "2025-07-29T21:47:53.120668Z"
    }
   },
   "outputs": [
    {
     "name": "stdout",
     "output_type": "stream",
     "text": [
      "['season', 'holiday', 'workingday', 'weather', 'temp', 'atemp', 'humidity', 'windspeed', 'datetime', 'datetime.year', 'datetime.month', 'datetime.day', 'datetime.dayofweek']\n"
     ]
    }
   ],
   "source": [
    "print(predictor.feature_metadata.get_features())\n"
   ]
  },
  {
   "cell_type": "code",
   "execution_count": 30,
   "id": "ede19001-d18d-497d-8ad3-308e0bafbfdf",
   "metadata": {
    "execution": {
     "iopub.execute_input": "2025-07-29T22:38:55.120593Z",
     "iopub.status.busy": "2025-07-29T22:38:55.120229Z",
     "iopub.status.idle": "2025-07-29T22:38:55.141495Z",
     "shell.execute_reply": "2025-07-29T22:38:55.140574Z",
     "shell.execute_reply.started": "2025-07-29T22:38:55.120570Z"
    }
   },
   "outputs": [],
   "source": [
    "submission = pd.read_csv('sampleSubmission.csv')\n",
    "\n",
    "\n",
    "submission['count'] = np.expm1(predictions_v3).round().astype(int)\n",
    "\n",
    "submission.to_csv('submission.csv', index=False)"
   ]
  },
  {
   "cell_type": "code",
   "execution_count": 33,
   "id": "454fe672-d62a-4513-87cb-af95685b9c96",
   "metadata": {
    "execution": {
     "iopub.execute_input": "2025-07-29T22:41:29.403073Z",
     "iopub.status.busy": "2025-07-29T22:41:29.402502Z",
     "iopub.status.idle": "2025-07-29T22:41:36.882021Z",
     "shell.execute_reply": "2025-07-29T22:41:36.881129Z",
     "shell.execute_reply.started": "2025-07-29T22:41:29.403045Z"
    }
   },
   "outputs": [
    {
     "data": {
      "text/plain": [
       "<Axes: xlabel='model'>"
      ]
     },
     "execution_count": 33,
     "metadata": {},
     "output_type": "execute_result"
    },
    {
     "data": {
      "image/png": "[encoded data removed]",
      "text/plain": [
       "<Figure size 640x480 with 1 Axes>"
      ]
     },
     "metadata": {},
     "output_type": "display_data"
    }
   ],
   "source": [
    "leaderboard = predictor_v3.leaderboard(train_data, silent=True)\n",
    "leaderboard.plot.bar(x='model', y='score_val')\n"
   ]
  },
  {
   "cell_type": "code",
   "execution_count": 32,
   "id": "0f5f31db-8669-4fd1-895a-035d42a082b4",
   "metadata": {
    "execution": {
     "iopub.execute_input": "2025-07-29T22:41:08.715475Z",
     "iopub.status.busy": "2025-07-29T22:41:08.714793Z",
     "iopub.status.idle": "2025-07-29T22:41:08.719488Z",
     "shell.execute_reply": "2025-07-29T22:41:08.718610Z",
     "shell.execute_reply.started": "2025-07-29T22:41:08.715447Z"
    }
   },
   "outputs": [
    {
     "name": "stdout",
     "output_type": "stream",
     "text": [
      "Index(['model', 'score_test', 'score_val', 'eval_metric', 'pred_time_test',\n",
      "       'pred_time_val', 'fit_time', 'pred_time_test_marginal',\n",
      "       'pred_time_val_marginal', 'fit_time_marginal', 'stack_level',\n",
      "       'can_infer', 'fit_order'],\n",
      "      dtype='object')\n"
     ]
    }
   ],
   "source": [
    "print(leaderboard.columns)\n"
   ]
  },
  {
   "cell_type": "code",
   "execution_count": 34,
   "id": "a1b993a3-8b07-45b5-be51-bb508a1be377",
   "metadata": {
    "execution": {
     "iopub.execute_input": "2025-07-29T22:42:53.934183Z",
     "iopub.status.busy": "2025-07-29T22:42:53.933552Z",
     "iopub.status.idle": "2025-07-29T22:42:53.941799Z",
     "shell.execute_reply": "2025-07-29T22:42:53.940850Z",
     "shell.execute_reply.started": "2025-07-29T22:42:53.934158Z"
    }
   },
   "outputs": [
    {
     "name": "stdout",
     "output_type": "stream",
     "text": [
      "                 model  score_val\n",
      "1  WeightedEnsemble_L2  -1.035018\n",
      "0              XGBoost  -1.043495\n",
      "2             CatBoost  -1.046465\n",
      "3           LightGBMXT  -1.063907\n"
     ]
    }
   ],
   "source": [
    "print(leaderboard[['model', 'score_val']].sort_values('score_val', ascending=False))\n"
   ]
  },
  {
   "cell_type": "code",
   "execution_count": 35,
   "id": "8b58b92b-2cdd-4d02-a49b-dbca32401e9d",
   "metadata": {
    "execution": {
     "iopub.execute_input": "2025-07-29T22:43:26.813805Z",
     "iopub.status.busy": "2025-07-29T22:43:26.813245Z",
     "iopub.status.idle": "2025-07-29T22:43:27.004854Z",
     "shell.execute_reply": "2025-07-29T22:43:27.003544Z",
     "shell.execute_reply.started": "2025-07-29T22:43:26.813776Z"
    },
    "scrolled": true
   },
   "outputs": [
    {
     "data": {
      "text/plain": [
       "<Axes: title={'center': 'Model Test Scores'}, xlabel='model'>"
      ]
     },
     "execution_count": 35,
     "metadata": {},
     "output_type": "execute_result"
    },
    {
     "data": {
      "image/png": "[encoded data removed]",
      "text/plain": [
       "<Figure size 1000x500 with 1 Axes>"
      ]
     },
     "metadata": {},
     "output_type": "display_data"
    }
   ],
   "source": [
    "leaderboard.plot.bar(x='model', y='score_test', figsize=(10, 5), legend=False, title=\"Model Test Scores\")\n"
   ]
  }
 ],
 "metadata": {
  "kernelspec": {
   "display_name": "Python 3 (ipykernel)",
   "language": "python",
   "name": "python3"
  },
  "language_info": {
   "codemirror_mode": {
    "name": "ipython",
    "version": 3
   },
   "file_extension": ".py",
   "mimetype": "text/x-python",
   "name": "python",
   "nbconvert_exporter": "python",
   "pygments_lexer": "ipython3",
   "version": "3.12.9"
  }
 },
 "nbformat": 4,
 "nbformat_minor": 5
}
