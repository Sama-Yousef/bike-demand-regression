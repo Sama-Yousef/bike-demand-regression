{
 "cells": [
  {
   "cell_type": "code",
   "execution_count": 2,
   "id": "98f04586-46b1-4e4f-9fba-f27460532bcd",
   "metadata": {
    "execution": {
     "iopub.execute_input": "2025-07-29T23:07:14.946290Z",
     "iopub.status.busy": "2025-07-29T23:07:14.946016Z",
     "iopub.status.idle": "2025-07-29T23:07:14.986608Z",
     "shell.execute_reply": "2025-07-29T23:07:14.985854Z",
     "shell.execute_reply.started": "2025-07-29T23:07:14.946268Z"
    }
   },
   "outputs": [
    {
     "name": "stdout",
     "output_type": "stream",
     "text": [
      "['atemp', 'datetime', 'holiday', 'humidity', 'season', 'temp', 'weather', 'windspeed', 'workingday']\n",
      "['casual', 'count', 'registered']\n",
      "[]\n"
     ]
    }
   ],
   "source": [
    "import pandas as pd\n",
    "\n",
    "train_df = pd.read_csv(\"train.csv\")\n",
    "test_df = pd.read_csv(\"test.csv\")\n",
    "\n",
    "train_cols = set(train_df.columns)\n",
    "test_cols = set(test_df.columns)\n",
    "\n",
    "common_cols = train_cols.intersection(test_cols)\n",
    "\n",
    "train_only = train_cols - test_cols\n",
    "test_only = test_cols - train_cols\n",
    "\n",
    "print(sorted(common_cols))\n",
    "\n",
    "print(sorted(train_only))\n",
    "\n",
    "print(sorted(test_only))"
   ]
  },
  {
   "cell_type": "code",
   "execution_count": null,
   "id": "32cdfb10-8fdb-40af-803e-00f4faca9146",
   "metadata": {},
   "outputs": [],
   "source": []
  }
 ],
 "metadata": {
  "kernelspec": {
   "display_name": "Python 3 (ipykernel)",
   "language": "python",
   "name": "python3"
  },
  "language_info": {
   "codemirror_mode": {
    "name": "ipython",
    "version": 3
   },
   "file_extension": ".py",
   "mimetype": "text/x-python",
   "name": "python",
   "nbconvert_exporter": "python",
   "pygments_lexer": "ipython3",
   "version": "3.12.9"
  }
 },
 "nbformat": 4,
 "nbformat_minor": 5
}
